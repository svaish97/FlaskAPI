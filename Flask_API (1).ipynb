{
 "cells": [
  {
   "cell_type": "code",
   "execution_count": 1,
   "metadata": {},
   "outputs": [],
   "source": [
    "from flask import Flask , request ,jsonify\n",
    "import numpy as np\n",
    "import matplotlib.pyplot as plt\n",
    "import numpy\n",
    "import pickle\n",
    "import os\n",
    "#import cv2\n",
    "import pandas as pd\n",
    "#import mahotas as mt\n",
    "from matplotlib import pyplot as plt"
   ]
  },
  {
   "cell_type": "code",
   "execution_count": 2,
   "metadata": {},
   "outputs": [],
   "source": [
    "from PIL import Image"
   ]
  },
  {
   "cell_type": "code",
   "execution_count": 3,
   "metadata": {},
   "outputs": [],
   "source": [
    "app = Flask(__name__)\n",
    "\n",
    "\n",
    "def preprocess(image):\n",
    "    names = ['area','perimeter','physiological_length','physiological_width','aspect_ratio','rectangularity','circularity', \\\n",
    "             'mean_r','mean_g','mean_b','stddev_r','stddev_g','stddev_b', \\\n",
    "             'contrast','correlation','inverse_difference_moments','entropy'\n",
    "            ]\n",
    "    \n",
    "    main_img = image\n",
    "\n",
    "    #Preprocessing\n",
    "    img = cv2.cvtColor(main_img, cv2.COLOR_BGR2RGB)\n",
    "    gs = cv2.cvtColor(img,cv2.COLOR_RGB2GRAY)\n",
    "    blur = cv2.GaussianBlur(gs, (25,25),0)\n",
    "    ret_otsu,im_bw_otsu = cv2.threshold(blur,0,255,cv2.THRESH_BINARY_INV+cv2.THRESH_OTSU)\n",
    "    kernel = np.ones((50,50),np.uint8)\n",
    "    closing = cv2.morphologyEx(im_bw_otsu, cv2.MORPH_CLOSE, kernel)\n",
    "\n",
    "    #Shape features\n",
    "    image, contours, _ = cv2.findContours(closing,cv2.RETR_TREE,cv2.CHAIN_APPROX_SIMPLE)\n",
    "    cnt = contours[0]\n",
    "    M = cv2.moments(cnt)\n",
    "    area = cv2.contourArea(cnt)\n",
    "    perimeter = cv2.arcLength(cnt,True)\n",
    "    x,y,w,h = cv2.boundingRect(cnt)\n",
    "    aspect_ratio = float(w)/h\n",
    "    rectangularity = w*h/area\n",
    "    circularity = ((perimeter)**2)/area\n",
    "\n",
    "    #Color features\n",
    "    red_channel = img[:,:,0]\n",
    "    green_channel = img[:,:,1]\n",
    "    blue_channel = img[:,:,2]\n",
    "    blue_channel[blue_channel == 255] = 0\n",
    "    green_channel[green_channel == 255] = 0\n",
    "    red_channel[red_channel == 255] = 0\n",
    "\n",
    "    red_mean = np.mean(red_channel)\n",
    "    green_mean = np.mean(green_channel)\n",
    "    blue_mean = np.mean(blue_channel)\n",
    "\n",
    "    red_std = np.std(red_channel)\n",
    "    green_std = np.std(green_channel)\n",
    "    blue_std = np.std(blue_channel)\n",
    "\n",
    "    #Texture features\n",
    "    textures = mt.features.haralick(gs)\n",
    "    ht_mean = textures.mean(axis=0)\n",
    "    contrast = ht_mean[1]\n",
    "    correlation = ht_mean[2]\n",
    "    inverse_diff_moments = ht_mean[4]\n",
    "    entropy = ht_mean[8]\n",
    "\n",
    "    vector = [area,perimeter,w,h,aspect_ratio,rectangularity,circularity,\\\n",
    "              red_mean,green_mean,blue_mean,red_std,green_std,blue_std,\\\n",
    "              contrast,correlation,inverse_diff_moments,entropy\n",
    "             ]\n",
    "\n",
    "    df_temp = pd.DataFrame([vector],columns=names)\n",
    "    \n",
    "    print(df_temp)\n",
    "    return df_temp\n",
    "\n",
    "@app.route('/leaf' , methods = ['GET' , 'POST'])\n",
    "def func():\n",
    "    print(\"Upper\")\n",
    "    a=request.files['file']\n",
    "    print(\"Lower\")\n",
    "    img = Image.open( a )\n",
    "    I = numpy.asarray( img )\n",
    "    plt.figure()\n",
    "    plt.imshow( I )\n",
    "    plt.show()\n",
    "    \n",
    "    output = preprocess(I)\n",
    "    print(np.array(output))\n",
    "    clf = pickle.load(open('svm_classifier.pkl' , 'rb')  )\n",
    "    print(clf)\n",
    "    prediction = clf.predict(np.array(output))\n",
    "    myindex=prediction[0]\n",
    "    print('predicted value : ' ,prediction)\n",
    "    classes = ['Apple_Apple_scab',\n",
    "           'Apple_Black_rot','Apple_healthy','Apple_Cedar_apple_rust','Blueberry_healthy','Cherry_healthy',\n",
    "           'Cherry_Powdery_mildew','Corn_Cercospora_leaf_spot Gray_leaf_spot','Corn_Common_rust','Corn_Northern_Leaf_Blight',\n",
    "           'Corn_healthy','Grape_Black_rot','Grape_Esca_(Black_Measles)','Grape_healthy','Grape_Leaf_blight',\n",
    "           'Orange_Haunglongbing','Peach_Bacterial_spot','Pepper_bell_Bacterial_spot','Pepper_bell_healthy',\n",
    "           'Peach_healthy','Potato_Early_blight','Potato_healthy','Potato_Late_blight','Raspberry_healthy',\n",
    "           'Soybean_healthy','Squash_Powdery_mildew','Strawberry_healthy','Strawberry_Leaf_scorch',\n",
    "           'Tomato_Bacterial_spot','Tomato_Tomato_Yellow_Leaf_Curl_Virus','Tomato_Tomato_mosaic_virus','Tomato_Target_Spot',\n",
    "           'Tomato_Early_blight','Tomato_Spider_mites_Two-spotted_spider_mite','Tomato_Septoria_leaf_spot',\n",
    "           'Tomato_Leaf_Mold','Tomato_Late_blight','Tomato_healthy']\n",
    "    print(classes[myindex])\n",
    "    return classes[myindex]\n",
    "\n",
    "@app.route('/msp' , methods = ['GET' , 'POST'])\n",
    "def func2():\n",
    "    content=request.json\n",
    "   # print(content[\"Crop\"])\n",
    "   # str=content[\"Crop\"]\n",
    "   # print (str)\n",
    "\n",
    "    return \"abcd\""
   ]
  },
  {
   "cell_type": "code",
   "execution_count": null,
   "metadata": {},
   "outputs": [],
   "source": []
  },
  {
   "cell_type": "code",
   "execution_count": 5,
   "metadata": {},
   "outputs": [
    {
     "name": "stdout",
     "output_type": "stream",
     "text": [
      " * Serving Flask app \"__main__\" (lazy loading)\n",
      " * Environment: production\n",
      "   WARNING: Do not use the development server in a production environment.\n",
      "   Use a production WSGI server instead.\n",
      " * Debug mode: off\n"
     ]
    },
    {
     "name": "stderr",
     "output_type": "stream",
     "text": [
      " * Running on http://172.16.102.51:5001/ (Press CTRL+C to quit)\n"
     ]
    }
   ],
   "source": [
    "#192.168.43.117\n",
    "if __name__ == '__main__':\n",
    "    app.run(host = \"172.16.102.51\" , port = 5001,debug=False)"
   ]
  },
  {
   "cell_type": "code",
   "execution_count": null,
   "metadata": {},
   "outputs": [],
   "source": []
  },
  {
   "cell_type": "code",
   "execution_count": null,
   "metadata": {},
   "outputs": [],
   "source": []
  }
 ],
 "metadata": {
  "kernelspec": {
   "display_name": "Python 3",
   "language": "python",
   "name": "python3"
  },
  "language_info": {
   "codemirror_mode": {
    "name": "ipython",
    "version": 3
   },
   "file_extension": ".py",
   "mimetype": "text/x-python",
   "name": "python",
   "nbconvert_exporter": "python",
   "pygments_lexer": "ipython3",
   "version": "3.6.5"
  }
 },
 "nbformat": 4,
 "nbformat_minor": 2
}
